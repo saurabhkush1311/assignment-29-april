{
 "cells": [
  {
   "cell_type": "markdown",
   "id": "84243c5f-bea1-4dbd-8bda-9194409937df",
   "metadata": {},
   "source": [
    "# ANSWER 1 \n",
    "Clustering is a type of unsupervised learning where the goal is to group similar data points together based on their features or characteristics. The main idea is to maximize the similarity within clusters while maximizing the dissimilarity between clusters. \n",
    "\n",
    "Clustering is useful in various applications, such as:\n",
    "1. Customer segmentation: Identifying groups of customers with similar behaviors or preferences for targeted marketing strategies.\n",
    "2. Image segmentation: Grouping pixels with similar attributes to segment objects in images.\n",
    "3. Anomaly detection: Identifying unusual patterns or outliers in data.\n",
    "4. Document clustering: Grouping similar documents for efficient organization and retrieval.\n",
    "5. Social network analysis: Identifying communities or groups within social networks.\n",
    "6. Genetic clustering: Classifying genetic data into distinct groups based on similarities."
   ]
  },
  {
   "cell_type": "markdown",
   "id": "8fc3936e-b7bc-45e9-97e3-53fed03d12e5",
   "metadata": {},
   "source": [
    "# ANSWER 2\n",
    "DBSCAN is a density-based clustering algorithm that groups data points based on their density within a specific neighborhood. Unlike k-means and hierarchical clustering, which rely on fixed distances or number of clusters, DBSCAN does not require the number of clusters as input and can handle clusters of arbitrary shapes and sizes."
   ]
  },
  {
   "cell_type": "markdown",
   "id": "69503857-e821-41cd-a437-e2b6a9d3413d",
   "metadata": {},
   "source": [
    "# ANSWER 3\n",
    "Determining optimal values for epsilon and minimum points in DBSCAN:\n",
    "\n",
    "The optimal values for epsilon and minimum points in DBSCAN depend on the specific dataset and desired clustering results. \n",
    "Some common approaches to determine these values include:\n",
    "1. Visual inspection: Plot the distance to the kth nearest neighbor (k-distance) and look for the \"elbow\" point, which indicates the optimal epsilon value.\n",
    "2. k-distance graph: Create a k-distance graph and choose the knee point in the graph for epsilon.\n",
    "3. Silhouette score: Use silhouette score to evaluate the clustering results for different parameter values."
   ]
  },
  {
   "cell_type": "markdown",
   "id": "8c5c46a8-7103-41ff-a233-fd81f020a759",
   "metadata": {},
   "source": [
    "# ANSWER 4\n",
    "Handling outliers in DBSCAN clustering:\n",
    "\n",
    "DBSCAN classifies data points into three categories: core points, border points, and noise points. Noise points are considered outliers and do not belong to any cluster. Core points are those with a sufficient number of neighboring points within the specified epsilon distance, and border points are close to core points but do not have enough neighbors. DBSCAN naturally handles outliers by designating them as noise points."
   ]
  },
  {
   "cell_type": "markdown",
   "id": "a7ada288-a9c8-431a-910c-73f4c0faeddf",
   "metadata": {},
   "source": [
    "# ANSWER 5\n",
    "Differences between DBSCAN clustering and k-means clustering:\n",
    "1. K-means requires specifying the number of clusters beforehand, while DBSCAN automatically determines the number of clusters based on data density.\n",
    "2. DBSCAN can handle clusters of arbitrary shapes, while k-means assumes clusters as spherical and equally sized.\n",
    "3. DBSCAN does not require computing centroids, making it more suitable for large datasets.\n",
    "4. DBSCAN can identify noise points and outliers, while k-means assigns all data points to a cluster, even if they don't fit well."
   ]
  },
  {
   "cell_type": "markdown",
   "id": "160c39b6-ffb6-4efa-bf58-e8e8bf54f057",
   "metadata": {},
   "source": [
    "# ANSWER 6\n",
    "DBSCAN can be applied to high-dimensional data. However, high-dimensional spaces suffer from the \"curse of dimensionality,\" where the distance between points becomes less meaningful as the number of dimensions increases. It may lead to difficulty in finding appropriate values for epsilon and the increased computation cost. Dimensionality reduction techniques like PCA can be applied before using DBSCAN to mitigate these challenges."
   ]
  },
  {
   "cell_type": "markdown",
   "id": "d307dec4-40e0-46d0-869b-c948294c2230",
   "metadata": {},
   "source": [
    "# ANSWER 7\n",
    "DBSCAN can handle clusters with varying densities effectively. It identifies core points with sufficient neighboring points and can group together data points with varying densities, as long as they are connected through dense regions. The algorithm can form clusters of different shapes and sizes based on the data density."
   ]
  },
  {
   "cell_type": "markdown",
   "id": "fab2f5c4-527f-4e4f-b052-eefe06b34b6b",
   "metadata": {},
   "source": [
    "# ANSWER 8\n",
    "Silhouette score: Measures how well-separated the clusters are and ranges from -1 to 1, with higher scores indicating better-defined clusters.\n",
    "\n",
    "Davies-Bouldin index: Measures the average similarity between each cluster and its most similar cluster, with lower values indicating better clustering.\n",
    "\n",
    "Dunn index: Measures the ratio of the minimum inter-cluster distance to the maximum intra-cluster distance, with higher values indicating better clustering."
   ]
  },
  {
   "cell_type": "markdown",
   "id": "547556b6-ef53-4c19-976b-8581a1536c86",
   "metadata": {},
   "source": [
    "# ANSWER 9\n",
    "DBSCAN is primarily an unsupervised learning algorithm for clustering. However, it can be used in semi-supervised learning scenarios by incorporating labeled data points as prior information. One approach is to initialize core points as labeled data and then let the algorithm propagate labels to neighboring points."
   ]
  },
  {
   "cell_type": "markdown",
   "id": "e6b32e9b-5c6d-4634-9cb2-0ea0ce5db42b",
   "metadata": {},
   "source": [
    "# ANSWER 10\n",
    "DBSCAN can handle datasets with noise by designating noisy points as noise points (outliers). Missing values can be problematic for distance calculations. One common approach is to use techniques like mean imputation or data reconstruction to fill in the missing values before applying DBSCAN."
   ]
  },
  {
   "cell_type": "markdown",
   "id": "3847765f-942a-41a9-bbbb-9cf797a58ee7",
   "metadata": {},
   "source": [
    "# ANSWER 11"
   ]
  },
  {
   "cell_type": "code",
   "execution_count": 1,
   "id": "1fe9e354-605a-4f38-94ad-6179f943c874",
   "metadata": {},
   "outputs": [],
   "source": [
    "from sklearn.cluster import DBSCAN\n",
    "from sklearn.datasets import make_moons\n",
    "import matplotlib.pyplot as plt\n",
    "%matplotlib inline"
   ]
  },
  {
   "cell_type": "code",
   "execution_count": 2,
   "id": "6bf8e5c4-d4e3-4714-a04a-32ea5a8f6853",
   "metadata": {},
   "outputs": [],
   "source": [
    "X,y=make_moons(n_samples=250,noise=0.10)"
   ]
  },
  {
   "cell_type": "code",
   "execution_count": 5,
   "id": "83f9d4a2-21dd-46d5-b2ca-bb622395ef74",
   "metadata": {},
   "outputs": [
    {
     "data": {
      "text/plain": [
       "array([[ 1.87813940e+00, -4.58346119e-02],\n",
       "       [-6.29052166e-01,  6.62030109e-01],\n",
       "       [-9.29121585e-01,  3.95663648e-01],\n",
       "       [-6.16385464e-01,  9.49179925e-01],\n",
       "       [ 8.56972677e-01,  4.82814412e-01],\n",
       "       [ 3.42757926e-01, -3.31091728e-01],\n",
       "       [ 6.03773110e-02,  1.16506814e+00],\n",
       "       [ 1.07404088e-01,  3.52522878e-01],\n",
       "       [ 2.20393940e-01,  8.98812051e-01],\n",
       "       [ 1.41269284e-01,  1.01082277e+00],\n",
       "       [ 1.26005715e+00, -5.98982365e-01],\n",
       "       [-2.98467931e-01,  9.60459090e-01],\n",
       "       [ 9.94173872e-01,  2.39562450e-01],\n",
       "       [ 1.11020023e+00,  7.85439149e-02],\n",
       "       [ 8.84968875e-01,  4.41352566e-01],\n",
       "       [ 1.81665736e+00, -2.50429794e-01],\n",
       "       [ 7.13167301e-01,  7.02972181e-01],\n",
       "       [ 5.40110806e-01, -4.30262773e-01],\n",
       "       [ 1.93806332e+00, -3.35441363e-02],\n",
       "       [ 1.16643129e+00, -4.29322202e-01],\n",
       "       [ 5.35282116e-01,  8.67375908e-01],\n",
       "       [ 3.57047204e-01,  1.01709699e+00],\n",
       "       [ 1.11303440e-01,  2.23520754e-01],\n",
       "       [ 1.64811200e+00, -2.94621308e-01],\n",
       "       [-1.03940476e+00,  1.84276006e-01],\n",
       "       [ 9.60661036e-01,  4.53726685e-01],\n",
       "       [-1.66621935e-02,  1.67573463e-01],\n",
       "       [ 2.11988811e+00,  3.97963295e-01],\n",
       "       [ 1.05140554e+00,  2.12084113e-01],\n",
       "       [ 6.50238538e-01,  7.89109586e-01],\n",
       "       [ 1.74224497e-01, -2.27970688e-01],\n",
       "       [ 1.79249764e+00, -2.24191121e-01],\n",
       "       [-9.56250101e-01,  6.78467043e-01],\n",
       "       [ 9.29319930e-01,  1.94454709e-01],\n",
       "       [ 6.37409460e-02,  5.80260712e-01],\n",
       "       [ 6.76663228e-01,  6.68293712e-01],\n",
       "       [ 1.05003262e+00,  4.21029305e-01],\n",
       "       [ 1.91868719e+00,  2.47674539e-01],\n",
       "       [-5.15326252e-01,  7.22893254e-01],\n",
       "       [-4.56878520e-02,  9.34447393e-01],\n",
       "       [ 1.03852926e+00, -6.52766665e-01],\n",
       "       [ 6.62685963e-01,  6.88367738e-01],\n",
       "       [-7.26287039e-01,  8.92233910e-01],\n",
       "       [ 4.45709672e-01, -3.23331960e-01],\n",
       "       [ 1.01508419e+00,  2.01334091e-01],\n",
       "       [ 6.82579850e-01, -6.58870505e-01],\n",
       "       [-6.79680171e-01,  7.21072884e-01],\n",
       "       [ 6.64545332e-01,  4.90142470e-01],\n",
       "       [ 8.25692290e-01, -5.45768382e-01],\n",
       "       [ 9.23400022e-01, -4.40349319e-01],\n",
       "       [-3.27528284e-01,  9.57506467e-01],\n",
       "       [ 6.77994384e-01, -6.16009991e-01],\n",
       "       [ 5.93228314e-01,  7.38896748e-01],\n",
       "       [-9.58095117e-01, -2.19236804e-02],\n",
       "       [ 1.75374067e+00,  3.00889423e-02],\n",
       "       [ 1.95617312e+00,  2.11554358e-01],\n",
       "       [-6.04256097e-01,  8.36087559e-01],\n",
       "       [-1.71685016e-01,  9.55967338e-01],\n",
       "       [ 5.32577947e-01, -5.22695685e-01],\n",
       "       [ 1.97555837e+00, -1.49982124e-01],\n",
       "       [-8.93670392e-01,  4.90852807e-01],\n",
       "       [ 9.99696691e-01,  7.80069313e-02],\n",
       "       [ 7.84452462e-01, -5.87140542e-01],\n",
       "       [ 1.08470730e-01,  1.05756790e-01],\n",
       "       [ 1.13754261e+00, -5.03651903e-01],\n",
       "       [ 2.00255031e+00,  4.70704274e-01],\n",
       "       [ 1.03023474e-01,  1.40428539e-01],\n",
       "       [ 2.63705702e-01, -1.02306391e-02],\n",
       "       [ 5.27601845e-01,  5.90217408e-01],\n",
       "       [ 7.82368591e-01,  6.05823677e-01],\n",
       "       [-6.60906910e-01,  6.08621227e-01],\n",
       "       [-1.30185027e-02,  3.37514154e-01],\n",
       "       [ 1.24482433e-01, -8.81601457e-02],\n",
       "       [-3.53306780e-01,  8.63777886e-01],\n",
       "       [ 1.05212968e+00, -1.03881759e-02],\n",
       "       [-9.56293042e-01,  4.35000501e-01],\n",
       "       [-3.69332832e-01,  1.04220063e+00],\n",
       "       [ 1.95650126e+00,  2.17837993e-01],\n",
       "       [-9.02052501e-01,  1.05688920e-01],\n",
       "       [ 1.28665992e+00, -4.35126651e-01],\n",
       "       [ 1.50827475e-01,  1.41977025e-03],\n",
       "       [ 3.55934572e-02,  5.02535300e-01],\n",
       "       [ 1.68269126e+00, -8.63969254e-02],\n",
       "       [-2.32022195e-01,  8.28957170e-01],\n",
       "       [ 5.40547917e-02,  1.01489790e-01],\n",
       "       [ 8.88733231e-01,  4.74684384e-01],\n",
       "       [-1.06141683e+00,  2.99397762e-01],\n",
       "       [ 7.23182634e-01,  1.01278992e+00],\n",
       "       [ 1.26522702e+00, -5.61613223e-01],\n",
       "       [ 3.70835127e-01, -2.06599638e-01],\n",
       "       [ 7.46766723e-02, -9.07223516e-02],\n",
       "       [ 1.91963785e-01, -4.63548208e-02],\n",
       "       [-7.90052584e-02,  9.56931109e-01],\n",
       "       [ 7.59860166e-01, -6.80246003e-01],\n",
       "       [ 1.03668085e+00,  5.51534736e-01],\n",
       "       [ 9.71864161e-01,  1.25208369e-01],\n",
       "       [ 7.86244852e-01,  5.61117502e-01],\n",
       "       [-1.04053273e+00,  4.40589152e-01],\n",
       "       [ 1.24053855e+00, -2.05762402e-01],\n",
       "       [ 1.35362645e+00, -2.68357028e-01],\n",
       "       [ 1.07115022e+00, -4.59479727e-01],\n",
       "       [ 1.89699231e+00,  8.48508488e-02],\n",
       "       [-4.16466220e-01,  7.20332245e-01],\n",
       "       [-2.44188315e-01,  8.68156776e-01],\n",
       "       [ 1.74660102e-01,  2.68718060e-01],\n",
       "       [-9.86348722e-02,  9.28762037e-01],\n",
       "       [ 2.37286028e-01, -2.32877410e-01],\n",
       "       [ 4.69132173e-01,  8.89340138e-01],\n",
       "       [-9.23338462e-01,  3.30187273e-01],\n",
       "       [ 6.03137160e-02,  1.01949728e+00],\n",
       "       [ 8.60467815e-01,  3.54646801e-01],\n",
       "       [ 4.39627080e-03,  1.23608176e+00],\n",
       "       [ 1.07451538e+00,  1.53671523e-01],\n",
       "       [-5.27879981e-01,  6.40089977e-01],\n",
       "       [ 1.71550478e+00, -1.27933165e-01],\n",
       "       [ 1.66740175e+00, -1.37647328e-01],\n",
       "       [ 1.12873432e+00, -5.98156542e-01],\n",
       "       [ 2.17127927e-01,  1.30902243e-01],\n",
       "       [ 1.37580002e-02,  9.90037106e-01],\n",
       "       [ 1.94300557e+00, -1.26257822e-01],\n",
       "       [ 1.93304786e+00,  4.73191639e-01],\n",
       "       [ 5.45868118e-01, -3.70713140e-01],\n",
       "       [-1.16042644e+00,  3.40614558e-02],\n",
       "       [-7.84005302e-02,  9.09511410e-01],\n",
       "       [ 1.59655386e+00, -3.01531932e-01],\n",
       "       [ 1.28793127e+00, -2.92220463e-01],\n",
       "       [ 5.97693681e-01, -4.27881625e-01],\n",
       "       [ 9.29540725e-01, -3.72909513e-04],\n",
       "       [-8.72368766e-01,  4.80511775e-01],\n",
       "       [-9.51268135e-01,  3.85322808e-01],\n",
       "       [-1.32530887e-01,  5.01425428e-01],\n",
       "       [ 1.06409436e+00,  1.29863969e-02],\n",
       "       [-7.45357333e-01,  4.17036860e-01],\n",
       "       [ 1.13419693e+00, -4.05755854e-01],\n",
       "       [-4.74043673e-02,  8.83638889e-01],\n",
       "       [ 2.11719475e+00,  2.99387609e-01],\n",
       "       [-2.14542772e-01,  8.61627091e-01],\n",
       "       [-1.48005593e-01,  9.49456104e-01],\n",
       "       [ 3.97304662e-01, -4.64654820e-02],\n",
       "       [ 1.92445327e+00, -1.98215957e-01],\n",
       "       [ 1.22654742e+00, -4.41570858e-01],\n",
       "       [ 1.35909617e+00, -2.77856125e-01],\n",
       "       [ 1.96120952e-01, -1.83250464e-02],\n",
       "       [ 5.25652153e-01,  8.01150207e-01],\n",
       "       [ 2.98236726e-01,  3.11562689e-01],\n",
       "       [ 2.94433699e-01,  8.84109521e-01],\n",
       "       [-5.19060731e-01,  7.54313393e-01],\n",
       "       [ 1.91639663e+00,  4.33637616e-01],\n",
       "       [ 1.97571479e+00,  1.10487114e-01],\n",
       "       [ 7.42410314e-02,  3.49199347e-01],\n",
       "       [ 1.89259330e+00,  2.68641784e-04],\n",
       "       [-7.92766436e-01,  6.22891767e-01],\n",
       "       [-1.03149691e+00,  8.45550683e-02],\n",
       "       [-1.15473116e+00,  2.26931126e-01],\n",
       "       [ 6.62322112e-01,  6.93387655e-01],\n",
       "       [ 1.79098831e+00, -1.41240675e-01],\n",
       "       [ 1.62882366e+00, -2.59032867e-01],\n",
       "       [ 2.05645113e+00,  2.41650262e-01],\n",
       "       [ 1.64663542e+00, -4.18031904e-01],\n",
       "       [ 5.98040945e-02, -1.09165613e-01],\n",
       "       [ 1.69917374e+00,  2.39401510e-01],\n",
       "       [ 1.80917421e+00,  2.80381989e-01],\n",
       "       [ 1.01105785e-01,  7.73470075e-01],\n",
       "       [ 6.10823758e-01,  8.02142144e-01],\n",
       "       [ 8.96634382e-01,  7.48097316e-01],\n",
       "       [ 1.21288710e+00, -5.57382589e-01],\n",
       "       [-9.02279851e-01,  2.46823907e-01],\n",
       "       [ 1.56226860e+00, -3.08605869e-01],\n",
       "       [-3.05568306e-01,  9.09414370e-01],\n",
       "       [-5.84180097e-01,  6.59753797e-01],\n",
       "       [ 1.28131512e+00, -3.43428107e-01],\n",
       "       [-4.05410121e-01,  7.50842758e-01],\n",
       "       [ 3.51758973e-01,  8.41686707e-01],\n",
       "       [ 9.03433465e-01,  4.41452349e-01],\n",
       "       [-5.70580386e-01,  5.77360571e-01],\n",
       "       [ 4.35358155e-01, -4.74853625e-01],\n",
       "       [ 1.64531338e+00, -4.36132282e-01],\n",
       "       [ 7.68351757e-01, -6.75974868e-01],\n",
       "       [-7.24162643e-01,  6.27433880e-01],\n",
       "       [ 2.73309741e-01,  1.04238274e+00],\n",
       "       [ 1.32982356e+00, -2.19839544e-01],\n",
       "       [ 7.09492068e-01,  3.50867882e-01],\n",
       "       [-9.16894689e-01,  4.93094513e-01],\n",
       "       [-1.06440412e+00,  1.80683445e-01],\n",
       "       [ 4.85825869e-01, -3.90031455e-01],\n",
       "       [ 1.99595572e+00,  1.93764315e-01],\n",
       "       [ 9.04661114e-01, -4.42333819e-01],\n",
       "       [-9.59922465e-01,  5.50788168e-01],\n",
       "       [ 6.00286525e-01,  8.28291493e-01],\n",
       "       [ 1.19189252e+00, -1.75883398e-01],\n",
       "       [ 1.06457850e+00, -4.54175268e-01],\n",
       "       [ 3.30926243e-01, -4.39549005e-01],\n",
       "       [ 1.87840925e+00, -1.99730609e-02],\n",
       "       [ 8.23607738e-01, -6.70365359e-01],\n",
       "       [ 9.82946540e-02,  3.41291755e-01],\n",
       "       [ 1.70118228e+00, -1.90129898e-01],\n",
       "       [ 1.12328452e+00,  4.10418700e-01],\n",
       "       [-8.01929187e-01,  3.07139321e-01],\n",
       "       [ 1.67050998e+00, -2.44910896e-01],\n",
       "       [ 5.56341776e-01,  8.20198354e-01],\n",
       "       [-1.07924195e-02,  1.02882753e+00],\n",
       "       [ 3.83639595e-02,  5.13783044e-01],\n",
       "       [ 1.30120942e+00, -3.70727316e-01],\n",
       "       [ 1.11452290e+00, -4.50045962e-01],\n",
       "       [ 1.02991810e+00,  2.08815706e-01],\n",
       "       [-9.20567849e-01,  2.47902715e-01],\n",
       "       [ 6.63225571e-01, -4.07344831e-01],\n",
       "       [ 1.89870321e+00,  2.55620952e-01],\n",
       "       [ 3.71685981e-01,  8.10838204e-01],\n",
       "       [ 3.68203863e-01, -3.32768202e-01],\n",
       "       [ 1.67476475e+00, -2.51059228e-01],\n",
       "       [ 1.16504683e+00,  2.95285864e-01],\n",
       "       [ 5.95373292e-02,  9.43544344e-01],\n",
       "       [ 3.76650566e-01,  1.00010247e+00],\n",
       "       [ 1.09106781e+00, -4.75161681e-01],\n",
       "       [ 4.75076969e-01, -4.39771980e-01],\n",
       "       [ 1.41470340e-01,  3.20309979e-01],\n",
       "       [ 2.97514025e-01, -1.35946268e-01],\n",
       "       [ 1.93227682e-01, -8.52714372e-02],\n",
       "       [ 1.86763471e+00, -1.04252020e-02],\n",
       "       [ 1.06906011e-01, -5.61572221e-02],\n",
       "       [ 7.33941220e-01,  3.61245891e-01],\n",
       "       [ 8.59332304e-01,  6.85404378e-01],\n",
       "       [ 1.94688625e+00, -2.26125543e-01],\n",
       "       [ 4.04142124e-01, -2.09006168e-01],\n",
       "       [ 1.27804802e-01,  8.91205531e-01],\n",
       "       [ 6.01565399e-01,  8.47220715e-01],\n",
       "       [-1.15867744e+00, -1.62770752e-02],\n",
       "       [-5.94238048e-01,  8.37877633e-01],\n",
       "       [ 2.50569788e-01,  1.01139765e+00],\n",
       "       [-1.02012332e+00,  2.95306404e-01],\n",
       "       [-7.38683524e-01,  6.86300744e-01],\n",
       "       [ 2.10075779e+00,  3.81357450e-01],\n",
       "       [ 8.05504483e-01, -4.51503615e-01],\n",
       "       [-2.97432210e-01,  9.36866080e-01],\n",
       "       [ 2.74099523e-01,  9.99530421e-01],\n",
       "       [ 1.35738625e-01,  1.19093334e+00],\n",
       "       [-9.02736138e-01,  1.50328406e-02],\n",
       "       [ 5.98673556e-01, -2.79845510e-01],\n",
       "       [-6.25176305e-01,  6.94356744e-01],\n",
       "       [-1.15269132e-01,  3.64646411e-01],\n",
       "       [-4.75935766e-01,  8.24181033e-01],\n",
       "       [ 1.61786173e+00, -3.49971153e-01],\n",
       "       [ 8.44248846e-01,  6.87172789e-01],\n",
       "       [ 6.57750002e-01, -4.75932942e-01],\n",
       "       [ 1.48827015e+00, -4.93731553e-01],\n",
       "       [ 1.61218037e-01,  9.17222114e-01],\n",
       "       [ 1.65258824e-01, -1.88583480e-01],\n",
       "       [ 6.27406017e-02,  3.39562535e-01],\n",
       "       [ 4.36453180e-02,  1.26332568e-01]])"
      ]
     },
     "execution_count": 5,
     "metadata": {},
     "output_type": "execute_result"
    }
   ],
   "source": [
    "X"
   ]
  },
  {
   "cell_type": "code",
   "execution_count": 6,
   "id": "de1124d0-1cca-4c9a-af89-eb1718ac05ea",
   "metadata": {},
   "outputs": [
    {
     "data": {
      "text/plain": [
       "array([1, 0, 0, 0, 0, 1, 0, 1, 0, 0, 1, 0, 0, 0, 0, 1, 0, 1, 1, 1, 0, 0,\n",
       "       1, 1, 0, 0, 1, 1, 0, 0, 1, 1, 0, 0, 1, 0, 0, 1, 0, 0, 1, 0, 0, 1,\n",
       "       0, 1, 0, 0, 1, 1, 0, 1, 0, 0, 1, 1, 0, 0, 1, 1, 0, 0, 1, 1, 1, 1,\n",
       "       1, 1, 0, 0, 0, 1, 1, 0, 0, 0, 0, 1, 0, 1, 1, 1, 1, 0, 1, 0, 0, 0,\n",
       "       1, 1, 1, 1, 0, 1, 0, 0, 0, 0, 1, 1, 1, 1, 0, 0, 1, 0, 1, 0, 0, 0,\n",
       "       0, 0, 0, 0, 1, 1, 1, 1, 0, 1, 1, 1, 0, 0, 1, 1, 1, 0, 0, 0, 1, 0,\n",
       "       0, 1, 0, 1, 0, 0, 1, 1, 1, 1, 1, 0, 1, 0, 0, 1, 1, 1, 1, 0, 0, 0,\n",
       "       0, 1, 1, 1, 1, 1, 1, 1, 0, 0, 0, 1, 0, 1, 0, 0, 1, 0, 0, 0, 0, 1,\n",
       "       1, 1, 0, 0, 1, 0, 0, 0, 1, 1, 1, 0, 0, 1, 1, 1, 1, 1, 1, 1, 0, 0,\n",
       "       1, 0, 0, 1, 1, 1, 0, 0, 1, 1, 0, 1, 1, 0, 0, 0, 1, 1, 1, 1, 1, 1,\n",
       "       1, 0, 0, 1, 1, 0, 0, 0, 0, 0, 0, 0, 1, 1, 0, 0, 0, 0, 1, 0, 1, 0,\n",
       "       1, 0, 1, 1, 0, 1, 1, 1])"
      ]
     },
     "execution_count": 6,
     "metadata": {},
     "output_type": "execute_result"
    }
   ],
   "source": [
    "y"
   ]
  },
  {
   "cell_type": "code",
   "execution_count": 7,
   "id": "8c26d44b-faaa-4859-8935-6dcfcd07cd8b",
   "metadata": {},
   "outputs": [],
   "source": [
    "dbscan=DBSCAN(eps=2, min_samples=2)"
   ]
  },
  {
   "cell_type": "code",
   "execution_count": 8,
   "id": "c7f89467-21c3-4857-a3e8-a784d173cadf",
   "metadata": {},
   "outputs": [
    {
     "data": {
      "text/html": [
       "<style>#sk-container-id-1 {color: black;background-color: white;}#sk-container-id-1 pre{padding: 0;}#sk-container-id-1 div.sk-toggleable {background-color: white;}#sk-container-id-1 label.sk-toggleable__label {cursor: pointer;display: block;width: 100%;margin-bottom: 0;padding: 0.3em;box-sizing: border-box;text-align: center;}#sk-container-id-1 label.sk-toggleable__label-arrow:before {content: \"▸\";float: left;margin-right: 0.25em;color: #696969;}#sk-container-id-1 label.sk-toggleable__label-arrow:hover:before {color: black;}#sk-container-id-1 div.sk-estimator:hover label.sk-toggleable__label-arrow:before {color: black;}#sk-container-id-1 div.sk-toggleable__content {max-height: 0;max-width: 0;overflow: hidden;text-align: left;background-color: #f0f8ff;}#sk-container-id-1 div.sk-toggleable__content pre {margin: 0.2em;color: black;border-radius: 0.25em;background-color: #f0f8ff;}#sk-container-id-1 input.sk-toggleable__control:checked~div.sk-toggleable__content {max-height: 200px;max-width: 100%;overflow: auto;}#sk-container-id-1 input.sk-toggleable__control:checked~label.sk-toggleable__label-arrow:before {content: \"▾\";}#sk-container-id-1 div.sk-estimator input.sk-toggleable__control:checked~label.sk-toggleable__label {background-color: #d4ebff;}#sk-container-id-1 div.sk-label input.sk-toggleable__control:checked~label.sk-toggleable__label {background-color: #d4ebff;}#sk-container-id-1 input.sk-hidden--visually {border: 0;clip: rect(1px 1px 1px 1px);clip: rect(1px, 1px, 1px, 1px);height: 1px;margin: -1px;overflow: hidden;padding: 0;position: absolute;width: 1px;}#sk-container-id-1 div.sk-estimator {font-family: monospace;background-color: #f0f8ff;border: 1px dotted black;border-radius: 0.25em;box-sizing: border-box;margin-bottom: 0.5em;}#sk-container-id-1 div.sk-estimator:hover {background-color: #d4ebff;}#sk-container-id-1 div.sk-parallel-item::after {content: \"\";width: 100%;border-bottom: 1px solid gray;flex-grow: 1;}#sk-container-id-1 div.sk-label:hover label.sk-toggleable__label {background-color: #d4ebff;}#sk-container-id-1 div.sk-serial::before {content: \"\";position: absolute;border-left: 1px solid gray;box-sizing: border-box;top: 0;bottom: 0;left: 50%;z-index: 0;}#sk-container-id-1 div.sk-serial {display: flex;flex-direction: column;align-items: center;background-color: white;padding-right: 0.2em;padding-left: 0.2em;position: relative;}#sk-container-id-1 div.sk-item {position: relative;z-index: 1;}#sk-container-id-1 div.sk-parallel {display: flex;align-items: stretch;justify-content: center;background-color: white;position: relative;}#sk-container-id-1 div.sk-item::before, #sk-container-id-1 div.sk-parallel-item::before {content: \"\";position: absolute;border-left: 1px solid gray;box-sizing: border-box;top: 0;bottom: 0;left: 50%;z-index: -1;}#sk-container-id-1 div.sk-parallel-item {display: flex;flex-direction: column;z-index: 1;position: relative;background-color: white;}#sk-container-id-1 div.sk-parallel-item:first-child::after {align-self: flex-end;width: 50%;}#sk-container-id-1 div.sk-parallel-item:last-child::after {align-self: flex-start;width: 50%;}#sk-container-id-1 div.sk-parallel-item:only-child::after {width: 0;}#sk-container-id-1 div.sk-dashed-wrapped {border: 1px dashed gray;margin: 0 0.4em 0.5em 0.4em;box-sizing: border-box;padding-bottom: 0.4em;background-color: white;}#sk-container-id-1 div.sk-label label {font-family: monospace;font-weight: bold;display: inline-block;line-height: 1.2em;}#sk-container-id-1 div.sk-label-container {text-align: center;}#sk-container-id-1 div.sk-container {/* jupyter's `normalize.less` sets `[hidden] { display: none; }` but bootstrap.min.css set `[hidden] { display: none !important; }` so we also need the `!important` here to be able to override the default hidden behavior on the sphinx rendered scikit-learn.org. See: https://github.com/scikit-learn/scikit-learn/issues/21755 */display: inline-block !important;position: relative;}#sk-container-id-1 div.sk-text-repr-fallback {display: none;}</style><div id=\"sk-container-id-1\" class=\"sk-top-container\"><div class=\"sk-text-repr-fallback\"><pre>DBSCAN(eps=2, min_samples=2)</pre><b>In a Jupyter environment, please rerun this cell to show the HTML representation or trust the notebook. <br />On GitHub, the HTML representation is unable to render, please try loading this page with nbviewer.org.</b></div><div class=\"sk-container\" hidden><div class=\"sk-item\"><div class=\"sk-estimator sk-toggleable\"><input class=\"sk-toggleable__control sk-hidden--visually\" id=\"sk-estimator-id-1\" type=\"checkbox\" checked><label for=\"sk-estimator-id-1\" class=\"sk-toggleable__label sk-toggleable__label-arrow\">DBSCAN</label><div class=\"sk-toggleable__content\"><pre>DBSCAN(eps=2, min_samples=2)</pre></div></div></div></div></div>"
      ],
      "text/plain": [
       "DBSCAN(eps=2, min_samples=2)"
      ]
     },
     "execution_count": 8,
     "metadata": {},
     "output_type": "execute_result"
    }
   ],
   "source": [
    "dbscan.fit(X)"
   ]
  },
  {
   "cell_type": "code",
   "execution_count": 9,
   "id": "5ed7b7a5-d79c-46ce-b16d-e970921031f3",
   "metadata": {},
   "outputs": [
    {
     "name": "stdout",
     "output_type": "stream",
     "text": [
      "Cluster labels: [0 0 0 0 0 0 0 0 0 0 0 0 0 0 0 0 0 0 0 0 0 0 0 0 0 0 0 0 0 0 0 0 0 0 0 0 0\n",
      " 0 0 0 0 0 0 0 0 0 0 0 0 0 0 0 0 0 0 0 0 0 0 0 0 0 0 0 0 0 0 0 0 0 0 0 0 0\n",
      " 0 0 0 0 0 0 0 0 0 0 0 0 0 0 0 0 0 0 0 0 0 0 0 0 0 0 0 0 0 0 0 0 0 0 0 0 0\n",
      " 0 0 0 0 0 0 0 0 0 0 0 0 0 0 0 0 0 0 0 0 0 0 0 0 0 0 0 0 0 0 0 0 0 0 0 0 0\n",
      " 0 0 0 0 0 0 0 0 0 0 0 0 0 0 0 0 0 0 0 0 0 0 0 0 0 0 0 0 0 0 0 0 0 0 0 0 0\n",
      " 0 0 0 0 0 0 0 0 0 0 0 0 0 0 0 0 0 0 0 0 0 0 0 0 0 0 0 0 0 0 0 0 0 0 0 0 0\n",
      " 0 0 0 0 0 0 0 0 0 0 0 0 0 0 0 0 0 0 0 0 0 0 0 0 0 0 0 0]\n"
     ]
    }
   ],
   "source": [
    "labels = dbscan.fit_predict(X)\n",
    "\n",
    "# Print the clustering results\n",
    "print(\"Cluster labels:\", labels)"
   ]
  },
  {
   "cell_type": "code",
   "execution_count": 12,
   "id": "727177d6-10aa-4634-8022-e840e51d95c6",
   "metadata": {},
   "outputs": [
    {
     "data": {
      "text/plain": [
       "<matplotlib.collections.PathCollection at 0x7f15c06b7ca0>"
      ]
     },
     "execution_count": 12,
     "metadata": {},
     "output_type": "execute_result"
    },
    {
     "data": {
      "image/png": "[encoded data removed]",
      "text/plain": [
       "<Figure size 640x480 with 1 Axes>"
      ]
     },
     "metadata": {},
     "output_type": "display_data"
    }
   ],
   "source": [
    "plt.scatter(X[:,0],X[:,1],c=labels)"
   ]
  },
  {
   "cell_type": "code",
   "execution_count": null,
   "id": "96a32c64-907b-4142-acb5-97081581115a",
   "metadata": {},
   "outputs": [],
   "source": []
  }
 ],
 "metadata": {
  "kernelspec": {
   "display_name": "Python 3 (ipykernel)",
   "language": "python",
   "name": "python3"
  },
  "language_info": {
   "codemirror_mode": {
    "name": "ipython",
    "version": 3
   },
   "file_extension": ".py",
   "mimetype": "text/x-python",
   "name": "python",
   "nbconvert_exporter": "python",
   "pygments_lexer": "ipython3",
   "version": "3.10.8"
  }
 },
 "nbformat": 4,
 "nbformat_minor": 5
}
